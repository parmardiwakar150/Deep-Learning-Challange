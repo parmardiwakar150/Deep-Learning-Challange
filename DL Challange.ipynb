{
 "cells": [
  {
   "cell_type": "markdown",
   "metadata": {},
   "source": [
    "## Importing the Libraries"
   ]
  },
  {
   "cell_type": "code",
   "execution_count": 1,
   "metadata": {},
   "outputs": [],
   "source": [
    "import numpy as np\n",
    "import pandas as pd \n",
    "import seaborn as sns\n",
    "import matplotlib.pyplot as plt \n",
    "from glob import glob\n",
    "%matplotlib inline"
   ]
  },
  {
   "cell_type": "code",
   "execution_count": 2,
   "metadata": {},
   "outputs": [],
   "source": [
    "# Reading the train and test csv files \n",
    "train = pd.read_csv('Dataset/train.csv')\n",
    "test = pd.read_csv('Dataset/test.csv')"
   ]
  },
  {
   "cell_type": "code",
   "execution_count": 3,
   "metadata": {},
   "outputs": [
    {
     "data": {
      "text/html": [
       "<div>\n",
       "<style scoped>\n",
       "    .dataframe tbody tr th:only-of-type {\n",
       "        vertical-align: middle;\n",
       "    }\n",
       "\n",
       "    .dataframe tbody tr th {\n",
       "        vertical-align: top;\n",
       "    }\n",
       "\n",
       "    .dataframe thead th {\n",
       "        text-align: right;\n",
       "    }\n",
       "</style>\n",
       "<table border=\"1\" class=\"dataframe\">\n",
       "  <thead>\n",
       "    <tr style=\"text-align: right;\">\n",
       "      <th></th>\n",
       "      <th>Image_id</th>\n",
       "      <th>Animal</th>\n",
       "    </tr>\n",
       "  </thead>\n",
       "  <tbody>\n",
       "    <tr>\n",
       "      <th>0</th>\n",
       "      <td>Img-1.jpg</td>\n",
       "      <td>hippopotamus</td>\n",
       "    </tr>\n",
       "    <tr>\n",
       "      <th>1</th>\n",
       "      <td>Img-2.jpg</td>\n",
       "      <td>squirrel</td>\n",
       "    </tr>\n",
       "    <tr>\n",
       "      <th>2</th>\n",
       "      <td>Img-3.jpg</td>\n",
       "      <td>grizzly+bear</td>\n",
       "    </tr>\n",
       "    <tr>\n",
       "      <th>3</th>\n",
       "      <td>Img-4.jpg</td>\n",
       "      <td>ox</td>\n",
       "    </tr>\n",
       "    <tr>\n",
       "      <th>4</th>\n",
       "      <td>Img-5.jpg</td>\n",
       "      <td>german+shepherd</td>\n",
       "    </tr>\n",
       "  </tbody>\n",
       "</table>\n",
       "</div>"
      ],
      "text/plain": [
       "    Image_id           Animal\n",
       "0  Img-1.jpg     hippopotamus\n",
       "1  Img-2.jpg         squirrel\n",
       "2  Img-3.jpg     grizzly+bear\n",
       "3  Img-4.jpg               ox\n",
       "4  Img-5.jpg  german+shepherd"
      ]
     },
     "execution_count": 3,
     "metadata": {},
     "output_type": "execute_result"
    }
   ],
   "source": [
    "train.head()"
   ]
  },
  {
   "cell_type": "code",
   "execution_count": 4,
   "metadata": {},
   "outputs": [
    {
     "name": "stdout",
     "output_type": "stream",
     "text": [
      "There are 13000 images in the train dataset.\n",
      "There are 6000 images in the test datasets.\n"
     ]
    }
   ],
   "source": [
    "# Number of images in the training and the test datasets. \n",
    "print('There are {} images in the train dataset.'.format(train.shape[0]))\n",
    "print('There are {} images in the test datasets.'.format(test.shape[0]))"
   ]
  },
  {
   "cell_type": "code",
   "execution_count": 5,
   "metadata": {},
   "outputs": [
    {
     "name": "stdout",
     "output_type": "stream",
     "text": [
      "There are 30 unique animals in the dataset.\n"
     ]
    }
   ],
   "source": [
    "# Number of unique animals in the datasets\n",
    "print('There are {} unique animals in the dataset.'.format(train.Animal.unique().shape[0]))"
   ]
  },
  {
   "cell_type": "code",
   "execution_count": 6,
   "metadata": {},
   "outputs": [
    {
     "name": "stdout",
     "output_type": "stream",
     "text": [
      "The dataset contain images of the following animals:\n",
      "\n",
      " ['hippopotamus' 'squirrel' 'grizzly+bear' 'ox' 'german+shepherd' 'buffalo'\n",
      " 'otter' 'bobcat' 'wolf' 'persian+cat' 'collie' 'antelope' 'seal'\n",
      " 'dalmatian' 'siamese+cat' 'moose' 'horse' 'killer+whale' 'mouse' 'walrus'\n",
      " 'beaver' 'rhinoceros' 'chimpanzee' 'weasel' 'spider+monkey' 'raccoon'\n",
      " 'rat' 'chihuahua' 'mole' 'bat']\n"
     ]
    }
   ],
   "source": [
    "print('The dataset contain images of the following animals:\\n\\n', train.Animal.unique())"
   ]
  },
  {
   "cell_type": "markdown",
   "metadata": {},
   "source": [
    "### Data Visualization"
   ]
  },
  {
   "cell_type": "markdown",
   "metadata": {},
   "source": [
    "Now, that we have explored our dataset, let's implement some data visualization techniques to get a better understand of the data."
   ]
  },
  {
   "cell_type": "markdown",
   "metadata": {},
   "source": [
    "We will first start by analysing the frequency distribution of the animal images in the training data."
   ]
  },
  {
   "cell_type": "code",
   "execution_count": 7,
   "metadata": {},
   "outputs": [],
   "source": [
    "animal_count = pd.value_counts(train.Animal)"
   ]
  },
  {
   "cell_type": "code",
   "execution_count": 8,
   "metadata": {},
   "outputs": [
    {
     "data": {
      "image/png": "[encoded data removed]",
      "text/plain": [
       "<matplotlib.figure.Figure at 0x7fd3e9c6b4e0>"
      ]
     },
     "metadata": {},
     "output_type": "display_data"
    }
   ],
   "source": [
    "plt.figure(figsize=(15, 8))\n",
    "ax = sns.barplot(x=animal_count.index, y=animal_count.values)\n",
    "ax.set_xticklabels(ax.get_xticklabels(), rotation= 90)\n",
    "ax.set_title('Frequency Distribution of the Animals in the Training Data')\n",
    "ax.set(xlabel='Animals', ylabel='Count')\n",
    "plt.show()"
   ]
  },
  {
   "cell_type": "markdown",
   "metadata": {},
   "source": [
    "From the above distribution, we can infer that the animal 'horse' have the largest number of images in the dataset while 'mole' has the least number of images.\n",
    "\n",
    "The distribution of the animals is skewed i.e. the classes to predict are unbalanced in the dataset."
   ]
  },
  {
   "cell_type": "markdown",
   "metadata": {},
   "source": [
    "For Solving the problem of unbalanced classes we may either use undersampling or oversampling but here if we use undersampling then training data will become very less so we will use oversamling.\n",
    "For doing oversampling we will simply copy the classes having having less instances as many times so the number of instances become equal in all the classes"
   ]
  },
  {
   "cell_type": "code",
   "execution_count": 10,
   "metadata": {},
   "outputs": [
    {
     "data": {
      "text/plain": [
       "False"
      ]
     },
     "execution_count": 10,
     "metadata": {},
     "output_type": "execute_result"
    }
   ],
   "source": [
    "### Checking for any null values in the labels \n",
    "labels  =  train.Animal\n",
    "labels.isnull().any()"
   ]
  },
  {
   "cell_type": "markdown",
   "metadata": {},
   "source": [
    "As we can see there are no missing labels in training data"
   ]
  },
  {
   "cell_type": "markdown",
   "metadata": {},
   "source": [
    "## Data Preprocessing"
   ]
  },
  {
   "cell_type": "code",
   "execution_count": 11,
   "metadata": {},
   "outputs": [],
   "source": [
    "import os, shutil # importing libraries the to do some file operations on os level"
   ]
  },
  {
   "cell_type": "code",
   "execution_count": 12,
   "metadata": {},
   "outputs": [
    {
     "data": {
      "text/plain": [
       "'/home/parmardiwakar150/Downloads/dl_challange'"
      ]
     },
     "execution_count": 12,
     "metadata": {},
     "output_type": "execute_result"
    }
   ],
   "source": [
    "os.getcwd()"
   ]
  },
  {
   "cell_type": "code",
   "execution_count": 13,
   "metadata": {},
   "outputs": [],
   "source": [
    "original_dataset_dir = os.path.join(os.getcwd(), 'train')"
   ]
  },
  {
   "cell_type": "code",
   "execution_count": 14,
   "metadata": {},
   "outputs": [
    {
     "data": {
      "text/plain": [
       "'/home/parmardiwakar150/Downloads/dl_challange/train'"
      ]
     },
     "execution_count": 14,
     "metadata": {},
     "output_type": "execute_result"
    }
   ],
   "source": [
    "original_dataset_dir"
   ]
  },
  {
   "cell_type": "code",
   "execution_count": 15,
   "metadata": {},
   "outputs": [],
   "source": [
    "train_dir = os.path.join(os.getcwd(),'Dataset/train')"
   ]
  },
  {
   "cell_type": "code",
   "execution_count": 16,
   "metadata": {},
   "outputs": [],
   "source": [
    "os.mkdir(train_dir)"
   ]
  },
  {
   "cell_type": "code",
   "execution_count": 20,
   "metadata": {},
   "outputs": [],
   "source": [
    "validation_dir = os.path.join(os.getcwd(), 'Dataset/valid')"
   ]
  },
  {
   "cell_type": "code",
   "execution_count": 21,
   "metadata": {},
   "outputs": [],
   "source": [
    "os.mkdir(validation_dir)"
   ]
  },
  {
   "cell_type": "code",
   "execution_count": 22,
   "metadata": {},
   "outputs": [],
   "source": [
    "file_names = list(train.Image_id.values)"
   ]
  },
  {
   "cell_type": "code",
   "execution_count": 23,
   "metadata": {},
   "outputs": [],
   "source": [
    "label_names = list(train.Animal.values)"
   ]
  },
  {
   "cell_type": "code",
   "execution_count": 24,
   "metadata": {},
   "outputs": [],
   "source": [
    "folders_to_be_created = np.unique(label_names)"
   ]
  },
  {
   "cell_type": "code",
   "execution_count": 25,
   "metadata": {},
   "outputs": [],
   "source": [
    "for new_path in folders_to_be_created:\n",
    "    if not os.path.exists(os.path.join(train_dir, new_path)):\n",
    "        os.makedirs(os.path.join(train_dir, new_path))"
   ]
  },
  {
   "cell_type": "code",
   "execution_count": 26,
   "metadata": {},
   "outputs": [],
   "source": [
    "for new_path in folders_to_be_created:\n",
    "    if not os.path.exists(os.path.join(validation_dir, new_path)):\n",
    "        os.makedirs(os.path.join(validation_dir, new_path))"
   ]
  },
  {
   "cell_type": "markdown",
   "metadata": {},
   "source": [
    "We will keep 12000 images for training data and 1000 images for validation data"
   ]
  },
  {
   "cell_type": "code",
   "execution_count": 28,
   "metadata": {},
   "outputs": [],
   "source": [
    "for f in range(12000):\n",
    "    current_image = file_names[f]\n",
    "    current_label = label_names[f]\n",
    "    src = os.path.join(original_dataset_dir, current_image)\n",
    "    dst = os.path.join(train_dir, current_label)\n",
    "    shutil.move(src, dst) "
   ]
  },
  {
   "cell_type": "code",
   "execution_count": 29,
   "metadata": {},
   "outputs": [],
   "source": [
    "for f in range(12000, 13000):\n",
    "    current_image = file_names[f]\n",
    "    current_label = label_names[f]\n",
    "    src = os.path.join(original_dataset_dir, current_image)\n",
    "    dst = os.path.join(train_dir, current_label)\n",
    "    shutil.move(src, dst) "
   ]
  },
  {
   "cell_type": "code",
   "execution_count": 30,
   "metadata": {},
   "outputs": [
    {
     "name": "stdout",
     "output_type": "stream",
     "text": [
      "['german+shepherd', 'ox', 'mouse', 'wolf', 'hippopotamus', 'persian+cat', 'siamese+cat', 'moose', 'bobcat', 'buffalo', 'squirrel', 'otter', 'rat', 'weasel', 'mole', 'grizzly+bear', 'chihuahua', 'dalmatian', 'collie', 'seal', 'walrus', 'killer+whale', 'chimpanzee', 'beaver', 'horse', 'antelope', 'bat', 'rhinoceros', 'spider+monkey', 'raccoon']\n"
     ]
    }
   ],
   "source": [
    "print(os.listdir(train_dir))"
   ]
  },
  {
   "cell_type": "markdown",
   "metadata": {},
   "source": [
    "## Preparing First Model"
   ]
  },
  {
   "cell_type": "code",
   "execution_count": 31,
   "metadata": {},
   "outputs": [
    {
     "name": "stderr",
     "output_type": "stream",
     "text": [
      "/home/parmardiwakar150/anaconda3/lib/python3.6/site-packages/h5py/__init__.py:36: FutureWarning: Conversion of the second argument of issubdtype from `float` to `np.floating` is deprecated. In future, it will be treated as `np.float64 == np.dtype(float).type`.\n",
      "  from ._conv import register_converters as _register_converters\n",
      "Using TensorFlow backend.\n"
     ]
    }
   ],
   "source": [
    "from keras.models import Sequential\n",
    "from keras.layers import Conv2D\n",
    "from keras.layers import MaxPooling2D\n",
    "from keras.layers import Flatten\n",
    "from keras.layers import Dense"
   ]
  },
  {
   "cell_type": "code",
   "execution_count": 32,
   "metadata": {},
   "outputs": [],
   "source": [
    "model = Sequential()\n",
    "model.add(Conv2D(32, (3, 3), activation='relu', input_shape=(150, 150, 3)))\n",
    "model.add(MaxPooling2D((2, 2)))\n",
    "model.add(Conv2D(64, (3, 3), activation='relu'))\n",
    "model.add(MaxPooling2D((2, 2)))\n",
    "model.add(Conv2D(128, (3, 3), activation='relu'))\n",
    "model.add(MaxPooling2D((2, 2)))\n",
    "model.add(Conv2D(128, (3, 3), activation='relu'))\n",
    "model.add(MaxPooling2D((2, 2)))\n",
    "model.add(Flatten())\n",
    "model.add(Dense(512, activation='relu'))\n",
    "model.add(Dense(30, activation='softmax'))"
   ]
  },
  {
   "cell_type": "code",
   "execution_count": 33,
   "metadata": {},
   "outputs": [
    {
     "name": "stdout",
     "output_type": "stream",
     "text": [
      "_________________________________________________________________\n",
      "Layer (type)                 Output Shape              Param #   \n",
      "=================================================================\n",
      "conv2d_1 (Conv2D)            (None, 148, 148, 32)      896       \n",
      "_________________________________________________________________\n",
      "max_pooling2d_1 (MaxPooling2 (None, 74, 74, 32)        0         \n",
      "_________________________________________________________________\n",
      "conv2d_2 (Conv2D)            (None, 72, 72, 64)        18496     \n",
      "_________________________________________________________________\n",
      "max_pooling2d_2 (MaxPooling2 (None, 36, 36, 64)        0         \n",
      "_________________________________________________________________\n",
      "conv2d_3 (Conv2D)            (None, 34, 34, 128)       73856     \n",
      "_________________________________________________________________\n",
      "max_pooling2d_3 (MaxPooling2 (None, 17, 17, 128)       0         \n",
      "_________________________________________________________________\n",
      "conv2d_4 (Conv2D)            (None, 15, 15, 128)       147584    \n",
      "_________________________________________________________________\n",
      "max_pooling2d_4 (MaxPooling2 (None, 7, 7, 128)         0         \n",
      "_________________________________________________________________\n",
      "flatten_1 (Flatten)          (None, 6272)              0         \n",
      "_________________________________________________________________\n",
      "dense_1 (Dense)              (None, 512)               3211776   \n",
      "_________________________________________________________________\n",
      "dense_2 (Dense)              (None, 30)                15390     \n",
      "=================================================================\n",
      "Total params: 3,467,998\n",
      "Trainable params: 3,467,998\n",
      "Non-trainable params: 0\n",
      "_________________________________________________________________\n"
     ]
    }
   ],
   "source": [
    "model.summary()"
   ]
  },
  {
   "cell_type": "code",
   "execution_count": 34,
   "metadata": {},
   "outputs": [],
   "source": [
    "from keras.optimizers import RMSprop\n",
    "model.compile(loss='categorical_crossentropy', optimizer=RMSprop(lr=1e-4), metrics=['acc'])"
   ]
  },
  {
   "cell_type": "code",
   "execution_count": 35,
   "metadata": {},
   "outputs": [],
   "source": [
    "from keras.preprocessing.image import ImageDataGenerator"
   ]
  },
  {
   "cell_type": "code",
   "execution_count": 36,
   "metadata": {},
   "outputs": [],
   "source": [
    "train_datagen = ImageDataGenerator(rescale=1./255,rotation_range=40,width_shift_range=0.2,height_shift_range=0.2,\n",
    "                                   shear_range=0.2,zoom_range=0.2,horizontal_flip=True,)"
   ]
  },
  {
   "cell_type": "code",
   "execution_count": 37,
   "metadata": {},
   "outputs": [],
   "source": [
    "test_datagen = ImageDataGenerator(rescale=1./255)"
   ]
  },
  {
   "cell_type": "code",
   "execution_count": 38,
   "metadata": {},
   "outputs": [
    {
     "name": "stdout",
     "output_type": "stream",
     "text": [
      "Found 13000 images belonging to 30 classes.\n"
     ]
    }
   ],
   "source": [
    "train_generator = train_datagen.flow_from_directory(train_dir, target_size=(150, 150), batch_size=50,\n",
    "                                                    class_mode='categorical')"
   ]
  },
  {
   "cell_type": "code",
   "execution_count": 39,
   "metadata": {},
   "outputs": [
    {
     "name": "stdout",
     "output_type": "stream",
     "text": [
      "Found 0 images belonging to 30 classes.\n"
     ]
    }
   ],
   "source": [
    "validation_generator = test_datagen.flow_from_directory(validation_dir, target_size=(150, 150), batch_size=50,\n",
    "                                                       class_mode='categorical')"
   ]
  },
  {
   "cell_type": "code",
   "execution_count": 39,
   "metadata": {
    "scrolled": false
   },
   "outputs": [],
   "source": [
    "from keras.applications import VGG16"
   ]
  },
  {
   "cell_type": "code",
   "execution_count": 40,
   "metadata": {},
   "outputs": [],
   "source": [
    "conv_base = VGG16(weights='imagenet', include_top=False, input_shape=(150, 150, 3))"
   ]
  },
  {
   "cell_type": "code",
   "execution_count": 41,
   "metadata": {},
   "outputs": [
    {
     "name": "stdout",
     "output_type": "stream",
     "text": [
      "_________________________________________________________________\n",
      "Layer (type)                 Output Shape              Param #   \n",
      "=================================================================\n",
      "input_1 (InputLayer)         (None, 150, 150, 3)       0         \n",
      "_________________________________________________________________\n",
      "block1_conv1 (Conv2D)        (None, 150, 150, 64)      1792      \n",
      "_________________________________________________________________\n",
      "block1_conv2 (Conv2D)        (None, 150, 150, 64)      36928     \n",
      "_________________________________________________________________\n",
      "block1_pool (MaxPooling2D)   (None, 75, 75, 64)        0         \n",
      "_________________________________________________________________\n",
      "block2_conv1 (Conv2D)        (None, 75, 75, 128)       73856     \n",
      "_________________________________________________________________\n",
      "block2_conv2 (Conv2D)        (None, 75, 75, 128)       147584    \n",
      "_________________________________________________________________\n",
      "block2_pool (MaxPooling2D)   (None, 37, 37, 128)       0         \n",
      "_________________________________________________________________\n",
      "block3_conv1 (Conv2D)        (None, 37, 37, 256)       295168    \n",
      "_________________________________________________________________\n",
      "block3_conv2 (Conv2D)        (None, 37, 37, 256)       590080    \n",
      "_________________________________________________________________\n",
      "block3_conv3 (Conv2D)        (None, 37, 37, 256)       590080    \n",
      "_________________________________________________________________\n",
      "block3_pool (MaxPooling2D)   (None, 18, 18, 256)       0         \n",
      "_________________________________________________________________\n",
      "block4_conv1 (Conv2D)        (None, 18, 18, 512)       1180160   \n",
      "_________________________________________________________________\n",
      "block4_conv2 (Conv2D)        (None, 18, 18, 512)       2359808   \n",
      "_________________________________________________________________\n",
      "block4_conv3 (Conv2D)        (None, 18, 18, 512)       2359808   \n",
      "_________________________________________________________________\n",
      "block4_pool (MaxPooling2D)   (None, 9, 9, 512)         0         \n",
      "_________________________________________________________________\n",
      "block5_conv1 (Conv2D)        (None, 9, 9, 512)         2359808   \n",
      "_________________________________________________________________\n",
      "block5_conv2 (Conv2D)        (None, 9, 9, 512)         2359808   \n",
      "_________________________________________________________________\n",
      "block5_conv3 (Conv2D)        (None, 9, 9, 512)         2359808   \n",
      "_________________________________________________________________\n",
      "block5_pool (MaxPooling2D)   (None, 4, 4, 512)         0         \n",
      "=================================================================\n",
      "Total params: 14,714,688\n",
      "Trainable params: 14,714,688\n",
      "Non-trainable params: 0\n",
      "_________________________________________________________________\n"
     ]
    }
   ],
   "source": [
    "conv_base.summary()"
   ]
  },
  {
   "cell_type": "code",
   "execution_count": 42,
   "metadata": {},
   "outputs": [],
   "source": [
    "from keras.applications import VGG19"
   ]
  },
  {
   "cell_type": "code",
   "execution_count": 43,
   "metadata": {},
   "outputs": [],
   "source": [
    "conv_base = VGG19(weights='imagenet', include_top=False, input_shape=(150, 150, 3))"
   ]
  },
  {
   "cell_type": "code",
   "execution_count": 44,
   "metadata": {},
   "outputs": [
    {
     "name": "stdout",
     "output_type": "stream",
     "text": [
      "_________________________________________________________________\n",
      "Layer (type)                 Output Shape              Param #   \n",
      "=================================================================\n",
      "input_2 (InputLayer)         (None, 150, 150, 3)       0         \n",
      "_________________________________________________________________\n",
      "block1_conv1 (Conv2D)        (None, 150, 150, 64)      1792      \n",
      "_________________________________________________________________\n",
      "block1_conv2 (Conv2D)        (None, 150, 150, 64)      36928     \n",
      "_________________________________________________________________\n",
      "block1_pool (MaxPooling2D)   (None, 75, 75, 64)        0         \n",
      "_________________________________________________________________\n",
      "block2_conv1 (Conv2D)        (None, 75, 75, 128)       73856     \n",
      "_________________________________________________________________\n",
      "block2_conv2 (Conv2D)        (None, 75, 75, 128)       147584    \n",
      "_________________________________________________________________\n",
      "block2_pool (MaxPooling2D)   (None, 37, 37, 128)       0         \n",
      "_________________________________________________________________\n",
      "block3_conv1 (Conv2D)        (None, 37, 37, 256)       295168    \n",
      "_________________________________________________________________\n",
      "block3_conv2 (Conv2D)        (None, 37, 37, 256)       590080    \n",
      "_________________________________________________________________\n",
      "block3_conv3 (Conv2D)        (None, 37, 37, 256)       590080    \n",
      "_________________________________________________________________\n",
      "block3_conv4 (Conv2D)        (None, 37, 37, 256)       590080    \n",
      "_________________________________________________________________\n",
      "block3_pool (MaxPooling2D)   (None, 18, 18, 256)       0         \n",
      "_________________________________________________________________\n",
      "block4_conv1 (Conv2D)        (None, 18, 18, 512)       1180160   \n",
      "_________________________________________________________________\n",
      "block4_conv2 (Conv2D)        (None, 18, 18, 512)       2359808   \n",
      "_________________________________________________________________\n",
      "block4_conv3 (Conv2D)        (None, 18, 18, 512)       2359808   \n",
      "_________________________________________________________________\n",
      "block4_conv4 (Conv2D)        (None, 18, 18, 512)       2359808   \n",
      "_________________________________________________________________\n",
      "block4_pool (MaxPooling2D)   (None, 9, 9, 512)         0         \n",
      "_________________________________________________________________\n",
      "block5_conv1 (Conv2D)        (None, 9, 9, 512)         2359808   \n",
      "_________________________________________________________________\n",
      "block5_conv2 (Conv2D)        (None, 9, 9, 512)         2359808   \n",
      "_________________________________________________________________\n",
      "block5_conv3 (Conv2D)        (None, 9, 9, 512)         2359808   \n",
      "_________________________________________________________________\n",
      "block5_conv4 (Conv2D)        (None, 9, 9, 512)         2359808   \n",
      "_________________________________________________________________\n",
      "block5_pool (MaxPooling2D)   (None, 4, 4, 512)         0         \n",
      "=================================================================\n",
      "Total params: 20,024,384\n",
      "Trainable params: 20,024,384\n",
      "Non-trainable params: 0\n",
      "_________________________________________________________________\n"
     ]
    }
   ],
   "source": [
    "conv_base.summary()"
   ]
  },
  {
   "cell_type": "code",
   "execution_count": 46,
   "metadata": {},
   "outputs": [],
   "source": [
    "train_datagen = ImageDataGenerator(\n",
    "        rescale=1./255,\n",
    "        shear_range=0.2,\n",
    "        zoom_range=0.2,\n",
    "        horizontal_flip=True)\n",
    "test_datagen = ImageDataGenerator(rescale=1./255)\n",
    "batch_size = 50"
   ]
  },
  {
   "cell_type": "code",
   "execution_count": 47,
   "metadata": {},
   "outputs": [],
   "source": [
    "def extract_features_train(directory, sample_count):\n",
    "    features = np.zeros(shape=(sample_count, 4, 4, 512))\n",
    "    labels = np.zeros(shape=(sample_count, 30))\n",
    "    generator = train_datagen.flow_from_directory(directory, target_size=(150, 150), batch_size=batch_size,\n",
    "                                            class_mode='categorical')\n",
    "    i = 0\n",
    "    for inputs_batch, labels_batch in generator:\n",
    "        features_batch = conv_base.predict(inputs_batch)\n",
    "        features[i * batch_size : (i + 1) * batch_size] = features_batch\n",
    "        labels[i * batch_size : (i + 1) * batch_size] = labels_batch\n",
    "        i += 1\n",
    "        if i * batch_size >= sample_count:\n",
    "            break\n",
    "    return features, labels, generator.class_indices"
   ]
  },
  {
   "cell_type": "code",
   "execution_count": 48,
   "metadata": {},
   "outputs": [],
   "source": [
    "def extract_features_val(directory, sample_count):\n",
    "    features = np.zeros(shape=(sample_count, 4, 4, 512))\n",
    "    labels = np.zeros(shape=(sample_count, 30))\n",
    "    generator = test_datagen.flow_from_directory(directory, target_size=(150, 150), batch_size=batch_size,\n",
    "                                            class_mode='categorical')\n",
    "    i = 0\n",
    "    for inputs_batch, labels_batch in generator:\n",
    "        features_batch = conv_base.predict(inputs_batch)\n",
    "        features[i * batch_size : (i + 1) * batch_size] = features_batch\n",
    "        labels[i * batch_size : (i + 1) * batch_size] = labels_batch\n",
    "        i += 1\n",
    "        if i * batch_size >= sample_count:\n",
    "            break\n",
    "    return features, labels, generator.class_indices"
   ]
  },
  {
   "cell_type": "code",
   "execution_count": 50,
   "metadata": {},
   "outputs": [
    {
     "name": "stdout",
     "output_type": "stream",
     "text": [
      "Found 11499 images belonging to 30 classes.\n"
     ]
    }
   ],
   "source": [
    "train_features, train_labels, _ = extract_features_train(train_dir, 11499)"
   ]
  },
  {
   "cell_type": "code",
   "execution_count": 51,
   "metadata": {},
   "outputs": [
    {
     "name": "stdout",
     "output_type": "stream",
     "text": [
      "Found 1500 images belonging to 30 classes.\n"
     ]
    }
   ],
   "source": [
    "validation_features, validation_labels, class_indices = extract_features_val(validation_dir, 1500)"
   ]
  },
  {
   "cell_type": "code",
   "execution_count": 52,
   "metadata": {},
   "outputs": [
    {
     "data": {
      "text/plain": [
       "{'antelope': 0,\n",
       " 'bat': 1,\n",
       " 'beaver': 2,\n",
       " 'bobcat': 3,\n",
       " 'buffalo': 4,\n",
       " 'chihuahua': 5,\n",
       " 'chimpanzee': 6,\n",
       " 'collie': 7,\n",
       " 'dalmatian': 8,\n",
       " 'german+shepherd': 9,\n",
       " 'grizzly+bear': 10,\n",
       " 'hippopotamus': 11,\n",
       " 'horse': 12,\n",
       " 'killer+whale': 13,\n",
       " 'mole': 14,\n",
       " 'moose': 15,\n",
       " 'mouse': 16,\n",
       " 'otter': 17,\n",
       " 'ox': 18,\n",
       " 'persian+cat': 19,\n",
       " 'raccoon': 20,\n",
       " 'rat': 21,\n",
       " 'rhinoceros': 22,\n",
       " 'seal': 23,\n",
       " 'siamese+cat': 24,\n",
       " 'spider+monkey': 25,\n",
       " 'squirrel': 26,\n",
       " 'walrus': 27,\n",
       " 'weasel': 28,\n",
       " 'wolf': 29}"
      ]
     },
     "execution_count": 52,
     "metadata": {},
     "output_type": "execute_result"
    }
   ],
   "source": [
    "class_indices"
   ]
  },
  {
   "cell_type": "code",
   "execution_count": 76,
   "metadata": {},
   "outputs": [
    {
     "data": {
      "text/plain": [
       "(11499, 8192)"
      ]
     },
     "execution_count": 76,
     "metadata": {},
     "output_type": "execute_result"
    }
   ],
   "source": [
    "train_features.shape"
   ]
  },
  {
   "cell_type": "code",
   "execution_count": 53,
   "metadata": {
    "scrolled": false
   },
   "outputs": [],
   "source": [
    "train_features = np.reshape(train_features, (11499, 4 * 4 * 512))"
   ]
  },
  {
   "cell_type": "code",
   "execution_count": 54,
   "metadata": {},
   "outputs": [],
   "source": [
    "validation_features = np.reshape(validation_features, (1500, 4 * 4 * 512))"
   ]
  },
  {
   "cell_type": "code",
   "execution_count": 284,
   "metadata": {},
   "outputs": [],
   "source": [
    "from keras.layers import BatchNormalization"
   ]
  },
  {
   "cell_type": "code",
   "execution_count": 285,
   "metadata": {},
   "outputs": [],
   "source": [
    "model = Sequential()"
   ]
  },
  {
   "cell_type": "code",
   "execution_count": 288,
   "metadata": {},
   "outputs": [],
   "source": [
    "model.add(BatchNormalization(input_shape = train_features.shape[1:]))"
   ]
  },
  {
   "cell_type": "code",
   "execution_count": 289,
   "metadata": {},
   "outputs": [],
   "source": [
    "from keras import layers, regularizers"
   ]
  },
  {
   "cell_type": "code",
   "execution_count": 290,
   "metadata": {},
   "outputs": [],
   "source": [
    "model.add(Dense(256, activation='relu', input_dim=4 * 4 * 512))"
   ]
  },
  {
   "cell_type": "code",
   "execution_count": 291,
   "metadata": {},
   "outputs": [],
   "source": [
    "#model.add(Dense(512, activation='relu'))"
   ]
  },
  {
   "cell_type": "code",
   "execution_count": 292,
   "metadata": {},
   "outputs": [],
   "source": [
    "#model.add(Dense(512, activation='relu', kernel_regularizer=regularizers.l2(10)))"
   ]
  },
  {
   "cell_type": "code",
   "execution_count": 293,
   "metadata": {},
   "outputs": [],
   "source": [
    "from keras.layers import Dropout"
   ]
  },
  {
   "cell_type": "code",
   "execution_count": 294,
   "metadata": {},
   "outputs": [],
   "source": [
    "model.add(Dropout(0.5))"
   ]
  },
  {
   "cell_type": "code",
   "execution_count": 295,
   "metadata": {},
   "outputs": [],
   "source": [
    "model.add(Dense(30, activation='softmax', input_dim=4 * 4 * 512))"
   ]
  },
  {
   "cell_type": "code",
   "execution_count": 296,
   "metadata": {},
   "outputs": [],
   "source": [
    "model.compile(loss='categorical_crossentropy', optimizer=RMSprop(lr=2e-5), metrics=['acc'])"
   ]
  },
  {
   "cell_type": "code",
   "execution_count": 297,
   "metadata": {},
   "outputs": [],
   "source": [
    "from keras.callbacks import EarlyStopping"
   ]
  },
  {
   "cell_type": "code",
   "execution_count": 298,
   "metadata": {
    "scrolled": false
   },
   "outputs": [
    {
     "name": "stdout",
     "output_type": "stream",
     "text": [
      "Train on 11499 samples, validate on 1500 samples\n",
      "Epoch 1/50\n",
      "11499/11499 [==============================] - 14s 1ms/step - loss: 3.9921 - acc: 0.0750 - val_loss: 3.0336 - val_acc: 0.2093\n",
      "Epoch 2/50\n",
      "11499/11499 [==============================] - 14s 1ms/step - loss: 3.2092 - acc: 0.1809 - val_loss: 2.5848 - val_acc: 0.3133\n",
      "Epoch 3/50\n",
      "11499/11499 [==============================] - 13s 1ms/step - loss: 2.7946 - acc: 0.2618 - val_loss: 2.3666 - val_acc: 0.3633\n",
      "Epoch 4/50\n",
      "11499/11499 [==============================] - 16s 1ms/step - loss: 2.5562 - acc: 0.3101 - val_loss: 2.2277 - val_acc: 0.3940\n",
      "Epoch 5/50\n",
      "11499/11499 [==============================] - 12s 1ms/step - loss: 2.3669 - acc: 0.3468 - val_loss: 2.1350 - val_acc: 0.4087\n",
      "Epoch 6/50\n",
      "11499/11499 [==============================] - 11s 994us/step - loss: 2.1964 - acc: 0.3918 - val_loss: 2.0746 - val_acc: 0.4200\n",
      "Epoch 7/50\n",
      "11499/11499 [==============================] - 12s 1ms/step - loss: 2.0836 - acc: 0.4172 - val_loss: 2.0271 - val_acc: 0.4433\n",
      "Epoch 8/50\n",
      "11499/11499 [==============================] - 14s 1ms/step - loss: 1.9818 - acc: 0.4374 - val_loss: 1.9874 - val_acc: 0.4567\n",
      "Epoch 9/50\n",
      "11499/11499 [==============================] - 17s 1ms/step - loss: 1.8826 - acc: 0.4626 - val_loss: 1.9585 - val_acc: 0.4647\n",
      "Epoch 10/50\n",
      "11499/11499 [==============================] - 11s 990us/step - loss: 1.7799 - acc: 0.4906 - val_loss: 1.9306 - val_acc: 0.4780\n",
      "Epoch 11/50\n",
      "11499/11499 [==============================] - 13s 1ms/step - loss: 1.7120 - acc: 0.5093 - val_loss: 1.9085 - val_acc: 0.4760\n",
      "Epoch 12/50\n",
      "11499/11499 [==============================] - 15s 1ms/step - loss: 1.6406 - acc: 0.5252 - val_loss: 1.8883 - val_acc: 0.4820\n",
      "Epoch 13/50\n",
      "11499/11499 [==============================] - 16s 1ms/step - loss: 1.5940 - acc: 0.5417 - val_loss: 1.8726 - val_acc: 0.4900\n",
      "Epoch 14/50\n",
      "11499/11499 [==============================] - 21s 2ms/step - loss: 1.5176 - acc: 0.5567 - val_loss: 1.8572 - val_acc: 0.4893\n",
      "Epoch 15/50\n",
      "11499/11499 [==============================] - 22s 2ms/step - loss: 1.4572 - acc: 0.5789 - val_loss: 1.8414 - val_acc: 0.4927\n",
      "Epoch 16/50\n",
      "11499/11499 [==============================] - 20s 2ms/step - loss: 1.4103 - acc: 0.5861 - val_loss: 1.8291 - val_acc: 0.4960\n",
      "Epoch 17/50\n",
      "11499/11499 [==============================] - 15s 1ms/step - loss: 1.3627 - acc: 0.6000 - val_loss: 1.8251 - val_acc: 0.4920\n",
      "Epoch 18/50\n",
      "11499/11499 [==============================] - 13s 1ms/step - loss: 1.2984 - acc: 0.6145 - val_loss: 1.8148 - val_acc: 0.4973\n",
      "Epoch 19/50\n",
      "11499/11499 [==============================] - 14s 1ms/step - loss: 1.2558 - acc: 0.6342 - val_loss: 1.8073 - val_acc: 0.5007\n",
      "Epoch 20/50\n",
      "11499/11499 [==============================] - 12s 1ms/step - loss: 1.2088 - acc: 0.6468 - val_loss: 1.7991 - val_acc: 0.5033\n",
      "Epoch 21/50\n",
      "11499/11499 [==============================] - 12s 1ms/step - loss: 1.1664 - acc: 0.6632 - val_loss: 1.7952 - val_acc: 0.5000\n",
      "Epoch 22/50\n",
      "11499/11499 [==============================] - 13s 1ms/step - loss: 1.1350 - acc: 0.6706 - val_loss: 1.7937 - val_acc: 0.5047\n",
      "Epoch 23/50\n",
      "11499/11499 [==============================] - 12s 1ms/step - loss: 1.0876 - acc: 0.6859 - val_loss: 1.7852 - val_acc: 0.5087\n",
      "Epoch 24/50\n",
      "11499/11499 [==============================] - 12s 1ms/step - loss: 1.0497 - acc: 0.6991 - val_loss: 1.7884 - val_acc: 0.5033\n",
      "Epoch 25/50\n",
      "11499/11499 [==============================] - 12s 1ms/step - loss: 1.0219 - acc: 0.7105 - val_loss: 1.7778 - val_acc: 0.5133\n",
      "Epoch 26/50\n",
      "11499/11499 [==============================] - 13s 1ms/step - loss: 0.9996 - acc: 0.7103 - val_loss: 1.7785 - val_acc: 0.5127\n",
      "Epoch 27/50\n",
      "11499/11499 [==============================] - 13s 1ms/step - loss: 0.9569 - acc: 0.7257 - val_loss: 1.7757 - val_acc: 0.5140\n",
      "Epoch 28/50\n",
      "11499/11499 [==============================] - 11s 994us/step - loss: 0.9219 - acc: 0.7378 - val_loss: 1.7744 - val_acc: 0.5127\n",
      "Epoch 29/50\n",
      "11499/11499 [==============================] - 12s 1ms/step - loss: 0.8871 - acc: 0.7454 - val_loss: 1.7740 - val_acc: 0.5180\n",
      "Epoch 30/50\n",
      "11499/11499 [==============================] - 15s 1ms/step - loss: 0.8734 - acc: 0.7513 - val_loss: 1.7748 - val_acc: 0.5193\n",
      "Epoch 31/50\n",
      "11499/11499 [==============================] - 15s 1ms/step - loss: 0.8513 - acc: 0.7542 - val_loss: 1.7736 - val_acc: 0.5180\n",
      "Epoch 32/50\n",
      "11499/11499 [==============================] - 16s 1ms/step - loss: 0.8144 - acc: 0.7714 - val_loss: 1.7772 - val_acc: 0.5187\n",
      "Epoch 33/50\n",
      "11499/11499 [==============================] - 15s 1ms/step - loss: 0.7951 - acc: 0.7792 - val_loss: 1.7814 - val_acc: 0.5220\n",
      "Epoch 34/50\n",
      "11499/11499 [==============================] - 12s 1ms/step - loss: 0.7571 - acc: 0.7886 - val_loss: 1.7762 - val_acc: 0.5240\n",
      "Epoch 35/50\n",
      "11499/11499 [==============================] - 13s 1ms/step - loss: 0.7445 - acc: 0.7931 - val_loss: 1.7776 - val_acc: 0.5240\n",
      "Epoch 36/50\n",
      "11499/11499 [==============================] - 16s 1ms/step - loss: 0.7316 - acc: 0.7969 - val_loss: 1.7778 - val_acc: 0.5260\n",
      "Epoch 37/50\n",
      "11499/11499 [==============================] - 15s 1ms/step - loss: 0.7085 - acc: 0.8044 - val_loss: 1.7770 - val_acc: 0.5167\n",
      "Epoch 38/50\n",
      "11499/11499 [==============================] - 16s 1ms/step - loss: 0.6793 - acc: 0.8137 - val_loss: 1.7797 - val_acc: 0.5173\n",
      "Epoch 39/50\n",
      "11499/11499 [==============================] - 15s 1ms/step - loss: 0.6640 - acc: 0.8205 - val_loss: 1.7811 - val_acc: 0.5147\n",
      "Epoch 40/50\n",
      "11499/11499 [==============================] - 15s 1ms/step - loss: 0.6464 - acc: 0.8265 - val_loss: 1.7871 - val_acc: 0.5187\n",
      "Epoch 41/50\n",
      "11499/11499 [==============================] - 17s 1ms/step - loss: 0.6240 - acc: 0.8288 - val_loss: 1.7899 - val_acc: 0.5193\n",
      "Epoch 42/50\n",
      "11499/11499 [==============================] - 13s 1ms/step - loss: 0.6082 - acc: 0.8354 - val_loss: 1.7959 - val_acc: 0.5200\n",
      "Epoch 43/50\n",
      "11499/11499 [==============================] - 15s 1ms/step - loss: 0.5844 - acc: 0.8462 - val_loss: 1.7948 - val_acc: 0.5187\n",
      "Epoch 44/50\n",
      "11499/11499 [==============================] - 16s 1ms/step - loss: 0.5591 - acc: 0.8474 - val_loss: 1.8001 - val_acc: 0.5233\n",
      "Epoch 45/50\n",
      "11499/11499 [==============================] - 18s 2ms/step - loss: 0.5518 - acc: 0.8514 - val_loss: 1.7964 - val_acc: 0.5260\n",
      "Epoch 46/50\n",
      "11499/11499 [==============================] - 18s 2ms/step - loss: 0.5420 - acc: 0.8610 - val_loss: 1.7965 - val_acc: 0.5253\n",
      "Epoch 47/50\n",
      "11499/11499 [==============================] - 20s 2ms/step - loss: 0.5302 - acc: 0.8617 - val_loss: 1.8062 - val_acc: 0.5213\n",
      "Epoch 48/50\n",
      "11499/11499 [==============================] - 16s 1ms/step - loss: 0.5116 - acc: 0.8664 - val_loss: 1.8066 - val_acc: 0.5173\n",
      "Epoch 49/50\n",
      "11499/11499 [==============================] - 17s 1ms/step - loss: 0.4961 - acc: 0.8703 - val_loss: 1.8167 - val_acc: 0.5207\n",
      "Epoch 50/50\n",
      "11499/11499 [==============================] - 17s 1ms/step - loss: 0.4808 - acc: 0.8743 - val_loss: 1.8195 - val_acc: 0.5260\n"
     ]
    }
   ],
   "source": [
    "history = model.fit(train_features, train_labels, epochs=50, batch_size=50,\n",
    "                    validation_data=(validation_features, validation_labels))"
   ]
  },
  {
   "cell_type": "code",
   "execution_count": 51,
   "metadata": {},
   "outputs": [],
   "source": [
    "model.save('model.h5')"
   ]
  },
  {
   "cell_type": "code",
   "execution_count": 238,
   "metadata": {},
   "outputs": [
    {
     "data": {
      "image/png": "[encoded data removed]",
      "text/plain": [
       "<matplotlib.figure.Figure at 0x7f6626705390>"
      ]
     },
     "metadata": {},
     "output_type": "display_data"
    },
    {
     "data": {
      "image/png": "[encoded data removed]",
      "text/plain": [
       "<matplotlib.figure.Figure at 0x7f66266f77f0>"
      ]
     },
     "metadata": {},
     "output_type": "display_data"
    }
   ],
   "source": [
    "import matplotlib.pyplot as plt\n",
    "acc = history.history['acc']\n",
    "val_acc = history.history['val_acc']\n",
    "loss = history.history['loss']\n",
    "val_loss = history.history['val_loss']\n",
    "\n",
    "epochs = range(1, len(acc) + 1)\n",
    "plt.plot(epochs, acc, 'bo', label='Training acc')\n",
    "plt.plot(epochs, val_acc, 'b', label='Validation acc')\n",
    "plt.title('Training and validation accuracy')\n",
    "plt.legend()\n",
    "plt.figure()\n",
    "plt.plot(epochs, loss, 'bo', label='Training loss')\n",
    "plt.plot(epochs, val_loss, 'b', label='Validation loss')\n",
    "plt.title('Training and validation loss')\n",
    "plt.legend()\n",
    "plt.show()"
   ]
  },
  {
   "cell_type": "code",
   "execution_count": 239,
   "metadata": {},
   "outputs": [],
   "source": [
    "from keras.preprocessing.image import load_img, img_to_array"
   ]
  },
  {
   "cell_type": "code",
   "execution_count": 240,
   "metadata": {},
   "outputs": [],
   "source": [
    "img = load_img('Dataset/test/Img-' + str(1) + '.jpg', target_size=(150, 150))"
   ]
  },
  {
   "cell_type": "code",
   "execution_count": 241,
   "metadata": {},
   "outputs": [],
   "source": [
    "x = img_to_array(img) / 255"
   ]
  },
  {
   "cell_type": "code",
   "execution_count": 242,
   "metadata": {},
   "outputs": [
    {
     "data": {
      "text/plain": [
       "<matplotlib.image.AxesImage at 0x7f66266f7b00>"
      ]
     },
     "execution_count": 242,
     "metadata": {},
     "output_type": "execute_result"
    },
    {
     "data": {
      "image/png": "[encoded data removed]",
      "text/plain": [
       "<matplotlib.figure.Figure at 0x7f662671b518>"
      ]
     },
     "metadata": {},
     "output_type": "display_data"
    }
   ],
   "source": [
    "plt.imshow(x)"
   ]
  },
  {
   "cell_type": "code",
   "execution_count": 243,
   "metadata": {},
   "outputs": [],
   "source": [
    "x = x.reshape((1,) + x.shape)"
   ]
  },
  {
   "cell_type": "code",
   "execution_count": 244,
   "metadata": {},
   "outputs": [
    {
     "data": {
      "text/plain": [
       "array([[0.02045187, 0.00412843, 0.00853864, 0.00429083, 0.30247483,\n",
       "        0.00179195, 0.02777379, 0.01079546, 0.00965514, 0.0045532 ,\n",
       "        0.03719239, 0.31800827, 0.0375793 , 0.02363227, 0.00199458,\n",
       "        0.00959785, 0.00579583, 0.00834668, 0.05527494, 0.00206551,\n",
       "        0.01399946, 0.00551972, 0.0409199 , 0.02108124, 0.00348488,\n",
       "        0.00293768, 0.00362919, 0.00726734, 0.00492253, 0.00229631]],\n",
       "      dtype=float32)"
      ]
     },
     "execution_count": 244,
     "metadata": {},
     "output_type": "execute_result"
    }
   ],
   "source": [
    "model.predict((conv_base.predict(x)).reshape(1, 4 * 4 * 512))"
   ]
  },
  {
   "cell_type": "code",
   "execution_count": 245,
   "metadata": {},
   "outputs": [],
   "source": [
    "def load_image(img_path, target_size=(150, 150)):\n",
    "    im = load_image(img_path, target_size=target_size)\n",
    "    return img_to_array(im) #converts image to numpy array\n"
   ]
  },
  {
   "cell_type": "code",
   "execution_count": 246,
   "metadata": {},
   "outputs": [
    {
     "data": {
      "text/plain": [
       "'/home/parmardiwakar150/Downloads/DL Challange'"
      ]
     },
     "execution_count": 246,
     "metadata": {},
     "output_type": "execute_result"
    }
   ],
   "source": [
    "os.getcwd()"
   ]
  },
  {
   "cell_type": "code",
   "execution_count": 247,
   "metadata": {},
   "outputs": [
    {
     "ename": "RecursionError",
     "evalue": "maximum recursion depth exceeded",
     "output_type": "error",
     "traceback": [
      "\u001b[0;31m---------------------------------------------------------------------------\u001b[0m",
      "\u001b[0;31mRecursionError\u001b[0m                            Traceback (most recent call last)",
      "\u001b[0;32m<ipython-input-247-9e925c0ed7ef>\u001b[0m in \u001b[0;36m<module>\u001b[0;34m()\u001b[0m\n\u001b[0;32m----> 1\u001b[0;31m \u001b[0ma\u001b[0m \u001b[0;34m=\u001b[0m \u001b[0mload_image\u001b[0m\u001b[0;34m(\u001b[0m\u001b[0;34m'Dataset/test/'\u001b[0m\u001b[0;34m)\u001b[0m\u001b[0;34m\u001b[0m\u001b[0m\n\u001b[0m",
      "\u001b[0;32m<ipython-input-245-f5b3da5b3022>\u001b[0m in \u001b[0;36mload_image\u001b[0;34m(img_path, target_size)\u001b[0m\n\u001b[1;32m      1\u001b[0m \u001b[0;32mdef\u001b[0m \u001b[0mload_image\u001b[0m\u001b[0;34m(\u001b[0m\u001b[0mimg_path\u001b[0m\u001b[0;34m,\u001b[0m \u001b[0mtarget_size\u001b[0m\u001b[0;34m=\u001b[0m\u001b[0;34m(\u001b[0m\u001b[0;36m150\u001b[0m\u001b[0;34m,\u001b[0m \u001b[0;36m150\u001b[0m\u001b[0;34m)\u001b[0m\u001b[0;34m)\u001b[0m\u001b[0;34m:\u001b[0m\u001b[0;34m\u001b[0m\u001b[0m\n\u001b[0;32m----> 2\u001b[0;31m     \u001b[0mim\u001b[0m \u001b[0;34m=\u001b[0m \u001b[0mload_image\u001b[0m\u001b[0;34m(\u001b[0m\u001b[0mimg_path\u001b[0m\u001b[0;34m,\u001b[0m \u001b[0mtarget_size\u001b[0m\u001b[0;34m=\u001b[0m\u001b[0mtarget_size\u001b[0m\u001b[0;34m)\u001b[0m\u001b[0;34m\u001b[0m\u001b[0m\n\u001b[0m\u001b[1;32m      3\u001b[0m     \u001b[0;32mreturn\u001b[0m \u001b[0mimg_to_array\u001b[0m\u001b[0;34m(\u001b[0m\u001b[0mim\u001b[0m\u001b[0;34m)\u001b[0m \u001b[0;31m#converts image to numpy array\u001b[0m\u001b[0;34m\u001b[0m\u001b[0m\n",
      "... last 1 frames repeated, from the frame below ...\n",
      "\u001b[0;32m<ipython-input-245-f5b3da5b3022>\u001b[0m in \u001b[0;36mload_image\u001b[0;34m(img_path, target_size)\u001b[0m\n\u001b[1;32m      1\u001b[0m \u001b[0;32mdef\u001b[0m \u001b[0mload_image\u001b[0m\u001b[0;34m(\u001b[0m\u001b[0mimg_path\u001b[0m\u001b[0;34m,\u001b[0m \u001b[0mtarget_size\u001b[0m\u001b[0;34m=\u001b[0m\u001b[0;34m(\u001b[0m\u001b[0;36m150\u001b[0m\u001b[0;34m,\u001b[0m \u001b[0;36m150\u001b[0m\u001b[0;34m)\u001b[0m\u001b[0;34m)\u001b[0m\u001b[0;34m:\u001b[0m\u001b[0;34m\u001b[0m\u001b[0m\n\u001b[0;32m----> 2\u001b[0;31m     \u001b[0mim\u001b[0m \u001b[0;34m=\u001b[0m \u001b[0mload_image\u001b[0m\u001b[0;34m(\u001b[0m\u001b[0mimg_path\u001b[0m\u001b[0;34m,\u001b[0m \u001b[0mtarget_size\u001b[0m\u001b[0;34m=\u001b[0m\u001b[0mtarget_size\u001b[0m\u001b[0;34m)\u001b[0m\u001b[0;34m\u001b[0m\u001b[0m\n\u001b[0m\u001b[1;32m      3\u001b[0m     \u001b[0;32mreturn\u001b[0m \u001b[0mimg_to_array\u001b[0m\u001b[0;34m(\u001b[0m\u001b[0mim\u001b[0m\u001b[0;34m)\u001b[0m \u001b[0;31m#converts image to numpy array\u001b[0m\u001b[0;34m\u001b[0m\u001b[0m\n",
      "\u001b[0;31mRecursionError\u001b[0m: maximum recursion depth exceeded"
     ]
    }
   ],
   "source": [
    "a = load_image('Dataset/test/')"
   ]
  },
  {
   "cell_type": "code",
   "execution_count": 64,
   "metadata": {},
   "outputs": [],
   "source": [
    "prediction = []\n",
    "for i in range(1, 6001):\n",
    "    img = load_img('Dataset/test/Img-' + str(i) + '.jpg', target_size=(150, 150))\n",
    "    x = img_to_array(img) / 255\n",
    "    x = x.reshape((1,) + x.shape)\n",
    "    prediction.append(model.predict((conv_base.predict(x)).reshape(1, 4 * 4 * 512)))"
   ]
  },
  {
   "cell_type": "code",
   "execution_count": 65,
   "metadata": {},
   "outputs": [],
   "source": [
    "prediction = pd.DataFrame(np.array(prediction).reshape(6000, 30))"
   ]
  },
  {
   "cell_type": "code",
   "execution_count": 66,
   "metadata": {},
   "outputs": [
    {
     "data": {
      "text/html": [
       "<div>\n",
       "<style scoped>\n",
       "    .dataframe tbody tr th:only-of-type {\n",
       "        vertical-align: middle;\n",
       "    }\n",
       "\n",
       "    .dataframe tbody tr th {\n",
       "        vertical-align: top;\n",
       "    }\n",
       "\n",
       "    .dataframe thead th {\n",
       "        text-align: right;\n",
       "    }\n",
       "</style>\n",
       "<table border=\"1\" class=\"dataframe\">\n",
       "  <thead>\n",
       "    <tr style=\"text-align: right;\">\n",
       "      <th></th>\n",
       "      <th>0</th>\n",
       "      <th>1</th>\n",
       "      <th>2</th>\n",
       "      <th>3</th>\n",
       "      <th>4</th>\n",
       "      <th>5</th>\n",
       "      <th>6</th>\n",
       "      <th>7</th>\n",
       "      <th>8</th>\n",
       "      <th>9</th>\n",
       "      <th>...</th>\n",
       "      <th>20</th>\n",
       "      <th>21</th>\n",
       "      <th>22</th>\n",
       "      <th>23</th>\n",
       "      <th>24</th>\n",
       "      <th>25</th>\n",
       "      <th>26</th>\n",
       "      <th>27</th>\n",
       "      <th>28</th>\n",
       "      <th>29</th>\n",
       "    </tr>\n",
       "  </thead>\n",
       "  <tbody>\n",
       "    <tr>\n",
       "      <th>0</th>\n",
       "      <td>0.000018</td>\n",
       "      <td>0.000002</td>\n",
       "      <td>0.000005</td>\n",
       "      <td>0.000003</td>\n",
       "      <td>0.986339</td>\n",
       "      <td>0.000004</td>\n",
       "      <td>0.000036</td>\n",
       "      <td>0.000042</td>\n",
       "      <td>0.000006</td>\n",
       "      <td>0.000042</td>\n",
       "      <td>...</td>\n",
       "      <td>0.000086</td>\n",
       "      <td>0.000059</td>\n",
       "      <td>0.004234</td>\n",
       "      <td>0.000248</td>\n",
       "      <td>0.000002</td>\n",
       "      <td>0.000002</td>\n",
       "      <td>0.000015</td>\n",
       "      <td>0.000049</td>\n",
       "      <td>0.000004</td>\n",
       "      <td>0.000009</td>\n",
       "    </tr>\n",
       "    <tr>\n",
       "      <th>1</th>\n",
       "      <td>0.000454</td>\n",
       "      <td>0.032678</td>\n",
       "      <td>0.005983</td>\n",
       "      <td>0.024182</td>\n",
       "      <td>0.014685</td>\n",
       "      <td>0.027963</td>\n",
       "      <td>0.012374</td>\n",
       "      <td>0.007412</td>\n",
       "      <td>0.001140</td>\n",
       "      <td>0.004724</td>\n",
       "      <td>...</td>\n",
       "      <td>0.048023</td>\n",
       "      <td>0.043693</td>\n",
       "      <td>0.039713</td>\n",
       "      <td>0.004868</td>\n",
       "      <td>0.280552</td>\n",
       "      <td>0.014324</td>\n",
       "      <td>0.045640</td>\n",
       "      <td>0.002639</td>\n",
       "      <td>0.033134</td>\n",
       "      <td>0.056954</td>\n",
       "    </tr>\n",
       "    <tr>\n",
       "      <th>2</th>\n",
       "      <td>0.006967</td>\n",
       "      <td>0.002485</td>\n",
       "      <td>0.016225</td>\n",
       "      <td>0.024405</td>\n",
       "      <td>0.079230</td>\n",
       "      <td>0.003280</td>\n",
       "      <td>0.018902</td>\n",
       "      <td>0.026660</td>\n",
       "      <td>0.002786</td>\n",
       "      <td>0.014456</td>\n",
       "      <td>...</td>\n",
       "      <td>0.041114</td>\n",
       "      <td>0.008127</td>\n",
       "      <td>0.028768</td>\n",
       "      <td>0.009526</td>\n",
       "      <td>0.001876</td>\n",
       "      <td>0.023243</td>\n",
       "      <td>0.030368</td>\n",
       "      <td>0.001523</td>\n",
       "      <td>0.046982</td>\n",
       "      <td>0.022945</td>\n",
       "    </tr>\n",
       "    <tr>\n",
       "      <th>3</th>\n",
       "      <td>0.001903</td>\n",
       "      <td>0.008545</td>\n",
       "      <td>0.000355</td>\n",
       "      <td>0.000365</td>\n",
       "      <td>0.000260</td>\n",
       "      <td>0.301398</td>\n",
       "      <td>0.033575</td>\n",
       "      <td>0.036028</td>\n",
       "      <td>0.000192</td>\n",
       "      <td>0.005991</td>\n",
       "      <td>...</td>\n",
       "      <td>0.002508</td>\n",
       "      <td>0.047714</td>\n",
       "      <td>0.000257</td>\n",
       "      <td>0.003834</td>\n",
       "      <td>0.009006</td>\n",
       "      <td>0.027485</td>\n",
       "      <td>0.136010</td>\n",
       "      <td>0.000214</td>\n",
       "      <td>0.037668</td>\n",
       "      <td>0.001222</td>\n",
       "    </tr>\n",
       "    <tr>\n",
       "      <th>4</th>\n",
       "      <td>0.000536</td>\n",
       "      <td>0.051144</td>\n",
       "      <td>0.002704</td>\n",
       "      <td>0.008976</td>\n",
       "      <td>0.000755</td>\n",
       "      <td>0.078117</td>\n",
       "      <td>0.016409</td>\n",
       "      <td>0.008866</td>\n",
       "      <td>0.002265</td>\n",
       "      <td>0.018636</td>\n",
       "      <td>...</td>\n",
       "      <td>0.055142</td>\n",
       "      <td>0.096515</td>\n",
       "      <td>0.000895</td>\n",
       "      <td>0.006669</td>\n",
       "      <td>0.356056</td>\n",
       "      <td>0.155670</td>\n",
       "      <td>0.021728</td>\n",
       "      <td>0.002080</td>\n",
       "      <td>0.008225</td>\n",
       "      <td>0.003361</td>\n",
       "    </tr>\n",
       "  </tbody>\n",
       "</table>\n",
       "<p>5 rows × 30 columns</p>\n",
       "</div>"
      ],
      "text/plain": [
       "         0         1         2         3         4         5         6   \\\n",
       "0  0.000018  0.000002  0.000005  0.000003  0.986339  0.000004  0.000036   \n",
       "1  0.000454  0.032678  0.005983  0.024182  0.014685  0.027963  0.012374   \n",
       "2  0.006967  0.002485  0.016225  0.024405  0.079230  0.003280  0.018902   \n",
       "3  0.001903  0.008545  0.000355  0.000365  0.000260  0.301398  0.033575   \n",
       "4  0.000536  0.051144  0.002704  0.008976  0.000755  0.078117  0.016409   \n",
       "\n",
       "         7         8         9     ...           20        21        22  \\\n",
       "0  0.000042  0.000006  0.000042    ...     0.000086  0.000059  0.004234   \n",
       "1  0.007412  0.001140  0.004724    ...     0.048023  0.043693  0.039713   \n",
       "2  0.026660  0.002786  0.014456    ...     0.041114  0.008127  0.028768   \n",
       "3  0.036028  0.000192  0.005991    ...     0.002508  0.047714  0.000257   \n",
       "4  0.008866  0.002265  0.018636    ...     0.055142  0.096515  0.000895   \n",
       "\n",
       "         23        24        25        26        27        28        29  \n",
       "0  0.000248  0.000002  0.000002  0.000015  0.000049  0.000004  0.000009  \n",
       "1  0.004868  0.280552  0.014324  0.045640  0.002639  0.033134  0.056954  \n",
       "2  0.009526  0.001876  0.023243  0.030368  0.001523  0.046982  0.022945  \n",
       "3  0.003834  0.009006  0.027485  0.136010  0.000214  0.037668  0.001222  \n",
       "4  0.006669  0.356056  0.155670  0.021728  0.002080  0.008225  0.003361  \n",
       "\n",
       "[5 rows x 30 columns]"
      ]
     },
     "execution_count": 66,
     "metadata": {},
     "output_type": "execute_result"
    }
   ],
   "source": [
    "prediction.head()"
   ]
  },
  {
   "cell_type": "code",
   "execution_count": 67,
   "metadata": {},
   "outputs": [],
   "source": [
    "classes = {}\n",
    "for key, value in class_indices.items():\n",
    "    classes[value] = key"
   ]
  },
  {
   "cell_type": "code",
   "execution_count": 68,
   "metadata": {},
   "outputs": [],
   "source": [
    "col_ = []\n",
    "for key, value in classes.items():\n",
    "    col_.append(value)"
   ]
  },
  {
   "cell_type": "code",
   "execution_count": 69,
   "metadata": {},
   "outputs": [
    {
     "data": {
      "text/plain": [
       "['antelope',\n",
       " 'bat',\n",
       " 'beaver',\n",
       " 'bobcat',\n",
       " 'buffalo',\n",
       " 'chihuahua',\n",
       " 'chimpanzee',\n",
       " 'collie',\n",
       " 'dalmatian',\n",
       " 'german+shepherd',\n",
       " 'grizzly+bear',\n",
       " 'hippopotamus',\n",
       " 'horse',\n",
       " 'killer+whale',\n",
       " 'mole',\n",
       " 'moose',\n",
       " 'mouse',\n",
       " 'otter',\n",
       " 'ox',\n",
       " 'persian+cat',\n",
       " 'raccoon',\n",
       " 'rat',\n",
       " 'rhinoceros',\n",
       " 'seal',\n",
       " 'siamese+cat',\n",
       " 'spider+monkey',\n",
       " 'squirrel',\n",
       " 'walrus',\n",
       " 'weasel',\n",
       " 'wolf']"
      ]
     },
     "execution_count": 69,
     "metadata": {},
     "output_type": "execute_result"
    }
   ],
   "source": [
    "col_"
   ]
  },
  {
   "cell_type": "code",
   "execution_count": 70,
   "metadata": {},
   "outputs": [],
   "source": [
    "prediction.columns = col_"
   ]
  },
  {
   "cell_type": "code",
   "execution_count": 71,
   "metadata": {},
   "outputs": [],
   "source": [
    "prediction.index.name = 'image_id'"
   ]
  },
  {
   "cell_type": "code",
   "execution_count": 72,
   "metadata": {},
   "outputs": [],
   "source": [
    "image_id = []\n",
    "for i in range(1, 6001):\n",
    "    image_id.append('Img-' + str(i) + '.jpg')"
   ]
  },
  {
   "cell_type": "code",
   "execution_count": 73,
   "metadata": {},
   "outputs": [],
   "source": [
    "prediction.index = image_id"
   ]
  },
  {
   "cell_type": "code",
   "execution_count": 74,
   "metadata": {},
   "outputs": [],
   "source": [
    "prediction.index.name = 'image_id'"
   ]
  },
  {
   "cell_type": "code",
   "execution_count": 75,
   "metadata": {},
   "outputs": [],
   "source": [
    "prediction['image_id'] = image_id"
   ]
  },
  {
   "cell_type": "code",
   "execution_count": 76,
   "metadata": {},
   "outputs": [],
   "source": [
    "prediction = prediction[['image_id', 'antelope', 'bat', 'beaver', 'bobcat', 'buffalo', 'chihuahua',\n",
    "       'chimpanzee', 'collie', 'dalmatian', 'german+shepherd', 'grizzly+bear',\n",
    "       'hippopotamus', 'horse', 'killer+whale', 'mole', 'moose', 'mouse',\n",
    "       'otter', 'ox', 'persian+cat', 'raccoon', 'rat', 'rhinoceros', 'seal',\n",
    "       'siamese+cat', 'spider+monkey', 'squirrel', 'walrus', 'weasel', 'wolf']]"
   ]
  },
  {
   "cell_type": "code",
   "execution_count": 77,
   "metadata": {},
   "outputs": [
    {
     "data": {
      "text/html": [
       "<div>\n",
       "<style scoped>\n",
       "    .dataframe tbody tr th:only-of-type {\n",
       "        vertical-align: middle;\n",
       "    }\n",
       "\n",
       "    .dataframe tbody tr th {\n",
       "        vertical-align: top;\n",
       "    }\n",
       "\n",
       "    .dataframe thead th {\n",
       "        text-align: right;\n",
       "    }\n",
       "</style>\n",
       "<table border=\"1\" class=\"dataframe\">\n",
       "  <thead>\n",
       "    <tr style=\"text-align: right;\">\n",
       "      <th></th>\n",
       "      <th>image_id</th>\n",
       "      <th>antelope</th>\n",
       "      <th>bat</th>\n",
       "      <th>beaver</th>\n",
       "      <th>bobcat</th>\n",
       "      <th>buffalo</th>\n",
       "      <th>chihuahua</th>\n",
       "      <th>chimpanzee</th>\n",
       "      <th>collie</th>\n",
       "      <th>dalmatian</th>\n",
       "      <th>...</th>\n",
       "      <th>raccoon</th>\n",
       "      <th>rat</th>\n",
       "      <th>rhinoceros</th>\n",
       "      <th>seal</th>\n",
       "      <th>siamese+cat</th>\n",
       "      <th>spider+monkey</th>\n",
       "      <th>squirrel</th>\n",
       "      <th>walrus</th>\n",
       "      <th>weasel</th>\n",
       "      <th>wolf</th>\n",
       "    </tr>\n",
       "    <tr>\n",
       "      <th>image_id</th>\n",
       "      <th></th>\n",
       "      <th></th>\n",
       "      <th></th>\n",
       "      <th></th>\n",
       "      <th></th>\n",
       "      <th></th>\n",
       "      <th></th>\n",
       "      <th></th>\n",
       "      <th></th>\n",
       "      <th></th>\n",
       "      <th></th>\n",
       "      <th></th>\n",
       "      <th></th>\n",
       "      <th></th>\n",
       "      <th></th>\n",
       "      <th></th>\n",
       "      <th></th>\n",
       "      <th></th>\n",
       "      <th></th>\n",
       "      <th></th>\n",
       "      <th></th>\n",
       "    </tr>\n",
       "  </thead>\n",
       "  <tbody>\n",
       "    <tr>\n",
       "      <th>Img-1.jpg</th>\n",
       "      <td>Img-1.jpg</td>\n",
       "      <td>0.000018</td>\n",
       "      <td>0.000002</td>\n",
       "      <td>0.000005</td>\n",
       "      <td>0.000003</td>\n",
       "      <td>0.986339</td>\n",
       "      <td>0.000004</td>\n",
       "      <td>0.000036</td>\n",
       "      <td>0.000042</td>\n",
       "      <td>0.000006</td>\n",
       "      <td>...</td>\n",
       "      <td>0.000086</td>\n",
       "      <td>0.000059</td>\n",
       "      <td>0.004234</td>\n",
       "      <td>0.000248</td>\n",
       "      <td>0.000002</td>\n",
       "      <td>0.000002</td>\n",
       "      <td>0.000015</td>\n",
       "      <td>0.000049</td>\n",
       "      <td>0.000004</td>\n",
       "      <td>0.000009</td>\n",
       "    </tr>\n",
       "    <tr>\n",
       "      <th>Img-2.jpg</th>\n",
       "      <td>Img-2.jpg</td>\n",
       "      <td>0.000454</td>\n",
       "      <td>0.032678</td>\n",
       "      <td>0.005983</td>\n",
       "      <td>0.024182</td>\n",
       "      <td>0.014685</td>\n",
       "      <td>0.027963</td>\n",
       "      <td>0.012374</td>\n",
       "      <td>0.007412</td>\n",
       "      <td>0.001140</td>\n",
       "      <td>...</td>\n",
       "      <td>0.048023</td>\n",
       "      <td>0.043693</td>\n",
       "      <td>0.039713</td>\n",
       "      <td>0.004868</td>\n",
       "      <td>0.280552</td>\n",
       "      <td>0.014324</td>\n",
       "      <td>0.045640</td>\n",
       "      <td>0.002639</td>\n",
       "      <td>0.033134</td>\n",
       "      <td>0.056954</td>\n",
       "    </tr>\n",
       "    <tr>\n",
       "      <th>Img-3.jpg</th>\n",
       "      <td>Img-3.jpg</td>\n",
       "      <td>0.006967</td>\n",
       "      <td>0.002485</td>\n",
       "      <td>0.016225</td>\n",
       "      <td>0.024405</td>\n",
       "      <td>0.079230</td>\n",
       "      <td>0.003280</td>\n",
       "      <td>0.018902</td>\n",
       "      <td>0.026660</td>\n",
       "      <td>0.002786</td>\n",
       "      <td>...</td>\n",
       "      <td>0.041114</td>\n",
       "      <td>0.008127</td>\n",
       "      <td>0.028768</td>\n",
       "      <td>0.009526</td>\n",
       "      <td>0.001876</td>\n",
       "      <td>0.023243</td>\n",
       "      <td>0.030368</td>\n",
       "      <td>0.001523</td>\n",
       "      <td>0.046982</td>\n",
       "      <td>0.022945</td>\n",
       "    </tr>\n",
       "    <tr>\n",
       "      <th>Img-4.jpg</th>\n",
       "      <td>Img-4.jpg</td>\n",
       "      <td>0.001903</td>\n",
       "      <td>0.008545</td>\n",
       "      <td>0.000355</td>\n",
       "      <td>0.000365</td>\n",
       "      <td>0.000260</td>\n",
       "      <td>0.301398</td>\n",
       "      <td>0.033575</td>\n",
       "      <td>0.036028</td>\n",
       "      <td>0.000192</td>\n",
       "      <td>...</td>\n",
       "      <td>0.002508</td>\n",
       "      <td>0.047714</td>\n",
       "      <td>0.000257</td>\n",
       "      <td>0.003834</td>\n",
       "      <td>0.009006</td>\n",
       "      <td>0.027485</td>\n",
       "      <td>0.136010</td>\n",
       "      <td>0.000214</td>\n",
       "      <td>0.037668</td>\n",
       "      <td>0.001222</td>\n",
       "    </tr>\n",
       "    <tr>\n",
       "      <th>Img-5.jpg</th>\n",
       "      <td>Img-5.jpg</td>\n",
       "      <td>0.000536</td>\n",
       "      <td>0.051144</td>\n",
       "      <td>0.002704</td>\n",
       "      <td>0.008976</td>\n",
       "      <td>0.000755</td>\n",
       "      <td>0.078117</td>\n",
       "      <td>0.016409</td>\n",
       "      <td>0.008866</td>\n",
       "      <td>0.002265</td>\n",
       "      <td>...</td>\n",
       "      <td>0.055142</td>\n",
       "      <td>0.096515</td>\n",
       "      <td>0.000895</td>\n",
       "      <td>0.006669</td>\n",
       "      <td>0.356056</td>\n",
       "      <td>0.155670</td>\n",
       "      <td>0.021728</td>\n",
       "      <td>0.002080</td>\n",
       "      <td>0.008225</td>\n",
       "      <td>0.003361</td>\n",
       "    </tr>\n",
       "  </tbody>\n",
       "</table>\n",
       "<p>5 rows × 31 columns</p>\n",
       "</div>"
      ],
      "text/plain": [
       "            image_id  antelope       bat    beaver    bobcat   buffalo  \\\n",
       "image_id                                                                 \n",
       "Img-1.jpg  Img-1.jpg  0.000018  0.000002  0.000005  0.000003  0.986339   \n",
       "Img-2.jpg  Img-2.jpg  0.000454  0.032678  0.005983  0.024182  0.014685   \n",
       "Img-3.jpg  Img-3.jpg  0.006967  0.002485  0.016225  0.024405  0.079230   \n",
       "Img-4.jpg  Img-4.jpg  0.001903  0.008545  0.000355  0.000365  0.000260   \n",
       "Img-5.jpg  Img-5.jpg  0.000536  0.051144  0.002704  0.008976  0.000755   \n",
       "\n",
       "           chihuahua  chimpanzee    collie  dalmatian    ...      raccoon  \\\n",
       "image_id                                                 ...                \n",
       "Img-1.jpg   0.000004    0.000036  0.000042   0.000006    ...     0.000086   \n",
       "Img-2.jpg   0.027963    0.012374  0.007412   0.001140    ...     0.048023   \n",
       "Img-3.jpg   0.003280    0.018902  0.026660   0.002786    ...     0.041114   \n",
       "Img-4.jpg   0.301398    0.033575  0.036028   0.000192    ...     0.002508   \n",
       "Img-5.jpg   0.078117    0.016409  0.008866   0.002265    ...     0.055142   \n",
       "\n",
       "                rat  rhinoceros      seal  siamese+cat  spider+monkey  \\\n",
       "image_id                                                                \n",
       "Img-1.jpg  0.000059    0.004234  0.000248     0.000002       0.000002   \n",
       "Img-2.jpg  0.043693    0.039713  0.004868     0.280552       0.014324   \n",
       "Img-3.jpg  0.008127    0.028768  0.009526     0.001876       0.023243   \n",
       "Img-4.jpg  0.047714    0.000257  0.003834     0.009006       0.027485   \n",
       "Img-5.jpg  0.096515    0.000895  0.006669     0.356056       0.155670   \n",
       "\n",
       "           squirrel    walrus    weasel      wolf  \n",
       "image_id                                           \n",
       "Img-1.jpg  0.000015  0.000049  0.000004  0.000009  \n",
       "Img-2.jpg  0.045640  0.002639  0.033134  0.056954  \n",
       "Img-3.jpg  0.030368  0.001523  0.046982  0.022945  \n",
       "Img-4.jpg  0.136010  0.000214  0.037668  0.001222  \n",
       "Img-5.jpg  0.021728  0.002080  0.008225  0.003361  \n",
       "\n",
       "[5 rows x 31 columns]"
      ]
     },
     "execution_count": 77,
     "metadata": {},
     "output_type": "execute_result"
    }
   ],
   "source": [
    "prediction.head()"
   ]
  },
  {
   "cell_type": "code",
   "execution_count": 79,
   "metadata": {},
   "outputs": [],
   "source": [
    "prediction.to_csv('model_regularised4_submission.csv', index=False)"
   ]
  },
  {
   "cell_type": "code",
   "execution_count": 268,
   "metadata": {},
   "outputs": [],
   "source": [
    "prediction = pd.read_csv('model_regularised1_submission.csv')"
   ]
  },
  {
   "cell_type": "code",
   "execution_count": 269,
   "metadata": {},
   "outputs": [
    {
     "data": {
      "text/plain": [
       "Index(['image_id', 'antelope', 'bat', 'beaver', 'bobcat', 'buffalo',\n",
       "       'chihuahua', 'chimpanzee', 'collie', 'dalmatian', 'german+shepherd',\n",
       "       'grizzly+bear', 'hippopotamus', 'horse', 'killer+whale', 'mole',\n",
       "       'moose', 'mouse', 'otter', 'ox', 'persian+cat', 'raccoon', 'rat',\n",
       "       'rhinoceros', 'seal', 'siamese+cat', 'spider+monkey', 'squirrel',\n",
       "       'walrus', 'weasel', 'wolf'],\n",
       "      dtype='object')"
      ]
     },
     "execution_count": 269,
     "metadata": {},
     "output_type": "execute_result"
    }
   ],
   "source": [
    "prediction.columns"
   ]
  },
  {
   "cell_type": "code",
   "execution_count": 264,
   "metadata": {},
   "outputs": [],
   "source": []
  },
  {
   "cell_type": "code",
   "execution_count": 255,
   "metadata": {},
   "outputs": [],
   "source": [
    "a = prediction[['antelope', 'bat', 'beaver', 'bobcat', 'buffalo',\n",
    "       'chihuahua', 'chimpanzee', 'collie', 'dalmatian', 'german+shepherd',\n",
    "       'grizzly+bear', 'hippopotamus', 'killer+whale', 'mole',\n",
    "       'moose', 'mouse', 'otter', 'ox', 'persian+cat', 'raccoon', 'rat',\n",
    "       'rhinoceros', 'seal', 'siamese+cat', 'spider+monkey', 'squirrel',\n",
    "       'walrus', 'weasel', 'wolf']] = 0"
   ]
  },
  {
   "cell_type": "code",
   "execution_count": 265,
   "metadata": {},
   "outputs": [],
   "source": [
    "for col in prediction.columns:\n",
    "    if col == 'horse' or col =='image_id':\n",
    "        pass\n",
    "    else:\n",
    "        prediction[col] = 0"
   ]
  },
  {
   "cell_type": "code",
   "execution_count": 266,
   "metadata": {},
   "outputs": [],
   "source": [
    "prediction.to_csv('all_horse.csv', index=False)"
   ]
  },
  {
   "cell_type": "code",
   "execution_count": 267,
   "metadata": {},
   "outputs": [
    {
     "data": {
      "text/html": [
       "<div>\n",
       "<style scoped>\n",
       "    .dataframe tbody tr th:only-of-type {\n",
       "        vertical-align: middle;\n",
       "    }\n",
       "\n",
       "    .dataframe tbody tr th {\n",
       "        vertical-align: top;\n",
       "    }\n",
       "\n",
       "    .dataframe thead th {\n",
       "        text-align: right;\n",
       "    }\n",
       "</style>\n",
       "<table border=\"1\" class=\"dataframe\">\n",
       "  <thead>\n",
       "    <tr style=\"text-align: right;\">\n",
       "      <th></th>\n",
       "      <th>image_id</th>\n",
       "      <th>antelope</th>\n",
       "      <th>bat</th>\n",
       "      <th>beaver</th>\n",
       "      <th>bobcat</th>\n",
       "      <th>buffalo</th>\n",
       "      <th>chihuahua</th>\n",
       "      <th>chimpanzee</th>\n",
       "      <th>collie</th>\n",
       "      <th>dalmatian</th>\n",
       "      <th>...</th>\n",
       "      <th>raccoon</th>\n",
       "      <th>rat</th>\n",
       "      <th>rhinoceros</th>\n",
       "      <th>seal</th>\n",
       "      <th>siamese+cat</th>\n",
       "      <th>spider+monkey</th>\n",
       "      <th>squirrel</th>\n",
       "      <th>walrus</th>\n",
       "      <th>weasel</th>\n",
       "      <th>wolf</th>\n",
       "    </tr>\n",
       "  </thead>\n",
       "  <tbody>\n",
       "    <tr>\n",
       "      <th>0</th>\n",
       "      <td>Img-1.jpg</td>\n",
       "      <td>0</td>\n",
       "      <td>0</td>\n",
       "      <td>0</td>\n",
       "      <td>0</td>\n",
       "      <td>0</td>\n",
       "      <td>0</td>\n",
       "      <td>0</td>\n",
       "      <td>0</td>\n",
       "      <td>0</td>\n",
       "      <td>...</td>\n",
       "      <td>0</td>\n",
       "      <td>0</td>\n",
       "      <td>0</td>\n",
       "      <td>0</td>\n",
       "      <td>0</td>\n",
       "      <td>0</td>\n",
       "      <td>0</td>\n",
       "      <td>0</td>\n",
       "      <td>0</td>\n",
       "      <td>0</td>\n",
       "    </tr>\n",
       "    <tr>\n",
       "      <th>1</th>\n",
       "      <td>Img-2.jpg</td>\n",
       "      <td>0</td>\n",
       "      <td>0</td>\n",
       "      <td>0</td>\n",
       "      <td>0</td>\n",
       "      <td>0</td>\n",
       "      <td>0</td>\n",
       "      <td>0</td>\n",
       "      <td>0</td>\n",
       "      <td>0</td>\n",
       "      <td>...</td>\n",
       "      <td>0</td>\n",
       "      <td>0</td>\n",
       "      <td>0</td>\n",
       "      <td>0</td>\n",
       "      <td>0</td>\n",
       "      <td>0</td>\n",
       "      <td>0</td>\n",
       "      <td>0</td>\n",
       "      <td>0</td>\n",
       "      <td>0</td>\n",
       "    </tr>\n",
       "    <tr>\n",
       "      <th>2</th>\n",
       "      <td>Img-3.jpg</td>\n",
       "      <td>0</td>\n",
       "      <td>0</td>\n",
       "      <td>0</td>\n",
       "      <td>0</td>\n",
       "      <td>0</td>\n",
       "      <td>0</td>\n",
       "      <td>0</td>\n",
       "      <td>0</td>\n",
       "      <td>0</td>\n",
       "      <td>...</td>\n",
       "      <td>0</td>\n",
       "      <td>0</td>\n",
       "      <td>0</td>\n",
       "      <td>0</td>\n",
       "      <td>0</td>\n",
       "      <td>0</td>\n",
       "      <td>0</td>\n",
       "      <td>0</td>\n",
       "      <td>0</td>\n",
       "      <td>0</td>\n",
       "    </tr>\n",
       "    <tr>\n",
       "      <th>3</th>\n",
       "      <td>Img-4.jpg</td>\n",
       "      <td>0</td>\n",
       "      <td>0</td>\n",
       "      <td>0</td>\n",
       "      <td>0</td>\n",
       "      <td>0</td>\n",
       "      <td>0</td>\n",
       "      <td>0</td>\n",
       "      <td>0</td>\n",
       "      <td>0</td>\n",
       "      <td>...</td>\n",
       "      <td>0</td>\n",
       "      <td>0</td>\n",
       "      <td>0</td>\n",
       "      <td>0</td>\n",
       "      <td>0</td>\n",
       "      <td>0</td>\n",
       "      <td>0</td>\n",
       "      <td>0</td>\n",
       "      <td>0</td>\n",
       "      <td>0</td>\n",
       "    </tr>\n",
       "    <tr>\n",
       "      <th>4</th>\n",
       "      <td>Img-5.jpg</td>\n",
       "      <td>0</td>\n",
       "      <td>0</td>\n",
       "      <td>0</td>\n",
       "      <td>0</td>\n",
       "      <td>0</td>\n",
       "      <td>0</td>\n",
       "      <td>0</td>\n",
       "      <td>0</td>\n",
       "      <td>0</td>\n",
       "      <td>...</td>\n",
       "      <td>0</td>\n",
       "      <td>0</td>\n",
       "      <td>0</td>\n",
       "      <td>0</td>\n",
       "      <td>0</td>\n",
       "      <td>0</td>\n",
       "      <td>0</td>\n",
       "      <td>0</td>\n",
       "      <td>0</td>\n",
       "      <td>0</td>\n",
       "    </tr>\n",
       "  </tbody>\n",
       "</table>\n",
       "<p>5 rows × 31 columns</p>\n",
       "</div>"
      ],
      "text/plain": [
       "    image_id  antelope  bat  beaver  bobcat  buffalo  chihuahua  chimpanzee  \\\n",
       "0  Img-1.jpg         0    0       0       0        0          0           0   \n",
       "1  Img-2.jpg         0    0       0       0        0          0           0   \n",
       "2  Img-3.jpg         0    0       0       0        0          0           0   \n",
       "3  Img-4.jpg         0    0       0       0        0          0           0   \n",
       "4  Img-5.jpg         0    0       0       0        0          0           0   \n",
       "\n",
       "   collie  dalmatian  ...   raccoon  rat  rhinoceros  seal  siamese+cat  \\\n",
       "0       0          0  ...         0    0           0     0            0   \n",
       "1       0          0  ...         0    0           0     0            0   \n",
       "2       0          0  ...         0    0           0     0            0   \n",
       "3       0          0  ...         0    0           0     0            0   \n",
       "4       0          0  ...         0    0           0     0            0   \n",
       "\n",
       "   spider+monkey  squirrel  walrus  weasel  wolf  \n",
       "0              0         0       0       0     0  \n",
       "1              0         0       0       0     0  \n",
       "2              0         0       0       0     0  \n",
       "3              0         0       0       0     0  \n",
       "4              0         0       0       0     0  \n",
       "\n",
       "[5 rows x 31 columns]"
      ]
     },
     "execution_count": 267,
     "metadata": {},
     "output_type": "execute_result"
    }
   ],
   "source": [
    "prediction.head()"
   ]
  },
  {
   "cell_type": "code",
   "execution_count": 275,
   "metadata": {},
   "outputs": [
    {
     "data": {
      "text/plain": [
       "array([1111,  808,  695,  687,  680,  665,  606,  583,  519,  501,  491,\n",
       "        477,  477,  476,  464,  418,  403,  386,  359,  346,  341,  256,\n",
       "        220,  193,  189,  184,  148,  133,  124,   60])"
      ]
     },
     "execution_count": 275,
     "metadata": {},
     "output_type": "execute_result"
    }
   ],
   "source": [
    "train.Animal.value_counts().values"
   ]
  },
  {
   "cell_type": "code",
   "execution_count": 277,
   "metadata": {},
   "outputs": [
    {
     "data": {
      "text/plain": [
       "1111"
      ]
     },
     "execution_count": 277,
     "metadata": {},
     "output_type": "execute_result"
    }
   ],
   "source": [
    "train.Animal.value_counts()['horse']"
   ]
  },
  {
   "cell_type": "code",
   "execution_count": 279,
   "metadata": {},
   "outputs": [],
   "source": [
    "for col in train.Animal.value_counts().index:\n",
    "    if col in prediction.columns:\n",
    "        prediction[col] = train.Animal.value_counts()[col] / 13000"
   ]
  },
  {
   "cell_type": "code",
   "execution_count": 280,
   "metadata": {},
   "outputs": [
    {
     "data": {
      "text/html": [
       "<div>\n",
       "<style scoped>\n",
       "    .dataframe tbody tr th:only-of-type {\n",
       "        vertical-align: middle;\n",
       "    }\n",
       "\n",
       "    .dataframe tbody tr th {\n",
       "        vertical-align: top;\n",
       "    }\n",
       "\n",
       "    .dataframe thead th {\n",
       "        text-align: right;\n",
       "    }\n",
       "</style>\n",
       "<table border=\"1\" class=\"dataframe\">\n",
       "  <thead>\n",
       "    <tr style=\"text-align: right;\">\n",
       "      <th></th>\n",
       "      <th>image_id</th>\n",
       "      <th>antelope</th>\n",
       "      <th>bat</th>\n",
       "      <th>beaver</th>\n",
       "      <th>bobcat</th>\n",
       "      <th>buffalo</th>\n",
       "      <th>chihuahua</th>\n",
       "      <th>chimpanzee</th>\n",
       "      <th>collie</th>\n",
       "      <th>dalmatian</th>\n",
       "      <th>...</th>\n",
       "      <th>raccoon</th>\n",
       "      <th>rat</th>\n",
       "      <th>rhinoceros</th>\n",
       "      <th>seal</th>\n",
       "      <th>siamese+cat</th>\n",
       "      <th>spider+monkey</th>\n",
       "      <th>squirrel</th>\n",
       "      <th>walrus</th>\n",
       "      <th>weasel</th>\n",
       "      <th>wolf</th>\n",
       "    </tr>\n",
       "  </thead>\n",
       "  <tbody>\n",
       "    <tr>\n",
       "      <th>0</th>\n",
       "      <td>Img-1.jpg</td>\n",
       "      <td>0.053462</td>\n",
       "      <td>0.019692</td>\n",
       "      <td>0.010231</td>\n",
       "      <td>0.032154</td>\n",
       "      <td>0.046615</td>\n",
       "      <td>0.029692</td>\n",
       "      <td>0.036692</td>\n",
       "      <td>0.052308</td>\n",
       "      <td>0.027615</td>\n",
       "      <td>...</td>\n",
       "      <td>0.026615</td>\n",
       "      <td>0.016923</td>\n",
       "      <td>0.036692</td>\n",
       "      <td>0.051154</td>\n",
       "      <td>0.026231</td>\n",
       "      <td>0.014538</td>\n",
       "      <td>0.062154</td>\n",
       "      <td>0.011385</td>\n",
       "      <td>0.014154</td>\n",
       "      <td>0.031</td>\n",
       "    </tr>\n",
       "    <tr>\n",
       "      <th>1</th>\n",
       "      <td>Img-2.jpg</td>\n",
       "      <td>0.053462</td>\n",
       "      <td>0.019692</td>\n",
       "      <td>0.010231</td>\n",
       "      <td>0.032154</td>\n",
       "      <td>0.046615</td>\n",
       "      <td>0.029692</td>\n",
       "      <td>0.036692</td>\n",
       "      <td>0.052308</td>\n",
       "      <td>0.027615</td>\n",
       "      <td>...</td>\n",
       "      <td>0.026615</td>\n",
       "      <td>0.016923</td>\n",
       "      <td>0.036692</td>\n",
       "      <td>0.051154</td>\n",
       "      <td>0.026231</td>\n",
       "      <td>0.014538</td>\n",
       "      <td>0.062154</td>\n",
       "      <td>0.011385</td>\n",
       "      <td>0.014154</td>\n",
       "      <td>0.031</td>\n",
       "    </tr>\n",
       "    <tr>\n",
       "      <th>2</th>\n",
       "      <td>Img-3.jpg</td>\n",
       "      <td>0.053462</td>\n",
       "      <td>0.019692</td>\n",
       "      <td>0.010231</td>\n",
       "      <td>0.032154</td>\n",
       "      <td>0.046615</td>\n",
       "      <td>0.029692</td>\n",
       "      <td>0.036692</td>\n",
       "      <td>0.052308</td>\n",
       "      <td>0.027615</td>\n",
       "      <td>...</td>\n",
       "      <td>0.026615</td>\n",
       "      <td>0.016923</td>\n",
       "      <td>0.036692</td>\n",
       "      <td>0.051154</td>\n",
       "      <td>0.026231</td>\n",
       "      <td>0.014538</td>\n",
       "      <td>0.062154</td>\n",
       "      <td>0.011385</td>\n",
       "      <td>0.014154</td>\n",
       "      <td>0.031</td>\n",
       "    </tr>\n",
       "    <tr>\n",
       "      <th>3</th>\n",
       "      <td>Img-4.jpg</td>\n",
       "      <td>0.053462</td>\n",
       "      <td>0.019692</td>\n",
       "      <td>0.010231</td>\n",
       "      <td>0.032154</td>\n",
       "      <td>0.046615</td>\n",
       "      <td>0.029692</td>\n",
       "      <td>0.036692</td>\n",
       "      <td>0.052308</td>\n",
       "      <td>0.027615</td>\n",
       "      <td>...</td>\n",
       "      <td>0.026615</td>\n",
       "      <td>0.016923</td>\n",
       "      <td>0.036692</td>\n",
       "      <td>0.051154</td>\n",
       "      <td>0.026231</td>\n",
       "      <td>0.014538</td>\n",
       "      <td>0.062154</td>\n",
       "      <td>0.011385</td>\n",
       "      <td>0.014154</td>\n",
       "      <td>0.031</td>\n",
       "    </tr>\n",
       "    <tr>\n",
       "      <th>4</th>\n",
       "      <td>Img-5.jpg</td>\n",
       "      <td>0.053462</td>\n",
       "      <td>0.019692</td>\n",
       "      <td>0.010231</td>\n",
       "      <td>0.032154</td>\n",
       "      <td>0.046615</td>\n",
       "      <td>0.029692</td>\n",
       "      <td>0.036692</td>\n",
       "      <td>0.052308</td>\n",
       "      <td>0.027615</td>\n",
       "      <td>...</td>\n",
       "      <td>0.026615</td>\n",
       "      <td>0.016923</td>\n",
       "      <td>0.036692</td>\n",
       "      <td>0.051154</td>\n",
       "      <td>0.026231</td>\n",
       "      <td>0.014538</td>\n",
       "      <td>0.062154</td>\n",
       "      <td>0.011385</td>\n",
       "      <td>0.014154</td>\n",
       "      <td>0.031</td>\n",
       "    </tr>\n",
       "  </tbody>\n",
       "</table>\n",
       "<p>5 rows × 31 columns</p>\n",
       "</div>"
      ],
      "text/plain": [
       "    image_id  antelope       bat    beaver    bobcat   buffalo  chihuahua  \\\n",
       "0  Img-1.jpg  0.053462  0.019692  0.010231  0.032154  0.046615   0.029692   \n",
       "1  Img-2.jpg  0.053462  0.019692  0.010231  0.032154  0.046615   0.029692   \n",
       "2  Img-3.jpg  0.053462  0.019692  0.010231  0.032154  0.046615   0.029692   \n",
       "3  Img-4.jpg  0.053462  0.019692  0.010231  0.032154  0.046615   0.029692   \n",
       "4  Img-5.jpg  0.053462  0.019692  0.010231  0.032154  0.046615   0.029692   \n",
       "\n",
       "   chimpanzee    collie  dalmatian  ...     raccoon       rat  rhinoceros  \\\n",
       "0    0.036692  0.052308   0.027615  ...    0.026615  0.016923    0.036692   \n",
       "1    0.036692  0.052308   0.027615  ...    0.026615  0.016923    0.036692   \n",
       "2    0.036692  0.052308   0.027615  ...    0.026615  0.016923    0.036692   \n",
       "3    0.036692  0.052308   0.027615  ...    0.026615  0.016923    0.036692   \n",
       "4    0.036692  0.052308   0.027615  ...    0.026615  0.016923    0.036692   \n",
       "\n",
       "       seal  siamese+cat  spider+monkey  squirrel    walrus    weasel   wolf  \n",
       "0  0.051154     0.026231       0.014538  0.062154  0.011385  0.014154  0.031  \n",
       "1  0.051154     0.026231       0.014538  0.062154  0.011385  0.014154  0.031  \n",
       "2  0.051154     0.026231       0.014538  0.062154  0.011385  0.014154  0.031  \n",
       "3  0.051154     0.026231       0.014538  0.062154  0.011385  0.014154  0.031  \n",
       "4  0.051154     0.026231       0.014538  0.062154  0.011385  0.014154  0.031  \n",
       "\n",
       "[5 rows x 31 columns]"
      ]
     },
     "execution_count": 280,
     "metadata": {},
     "output_type": "execute_result"
    }
   ],
   "source": [
    "prediction.head()"
   ]
  },
  {
   "cell_type": "code",
   "execution_count": 281,
   "metadata": {},
   "outputs": [],
   "source": [
    "prediction.to_csv('as_train.csv', index=False)"
   ]
  },
  {
   "cell_type": "code",
   "execution_count": null,
   "metadata": {},
   "outputs": [],
   "source": []
  }
 ],
 "metadata": {
  "kernelspec": {
   "display_name": "Python 3",
   "language": "python",
   "name": "python3"
  },
  "language_info": {
   "codemirror_mode": {
    "name": "ipython",
    "version": 3
   },
   "file_extension": ".py",
   "mimetype": "text/x-python",
   "name": "python",
   "nbconvert_exporter": "python",
   "pygments_lexer": "ipython3",
   "version": "3.6.4"
  }
 },
 "nbformat": 4,
 "nbformat_minor": 2
}
